{
  "nbformat": 4,
  "nbformat_minor": 0,
  "metadata": {
    "colab": {
      "provenance": [],
      "authorship_tag": "ABX9TyM4mLAKPreJm67sbd20DBfo",
      "include_colab_link": true
    },
    "kernelspec": {
      "name": "python3",
      "display_name": "Python 3"
    },
    "language_info": {
      "name": "python"
    }
  },
  "cells": [
    {
      "cell_type": "markdown",
      "metadata": {
        "id": "view-in-github",
        "colab_type": "text"
      },
      "source": [
        "<a href=\"https://colab.research.google.com/github/Sunday-Okey/NLP_Project_Machine_Translation/blob/master/NLP_Final_Project.ipynb\" target=\"_parent\"><img src=\"https://colab.research.google.com/assets/colab-badge.svg\" alt=\"Open In Colab\"/></a>"
      ]
    },
    {
      "cell_type": "markdown",
      "source": [
        "## Download the data"
      ],
      "metadata": {
        "id": "bzkxYJgXFQz0"
      }
    },
    {
      "cell_type": "markdown",
      "source": [
        "#### [Data Source](https://www.statmt.org/europarl/)"
      ],
      "metadata": {
        "id": "Eos670ehOK0m"
      }
    },
    {
      "cell_type": "code",
      "source": [
        "folder_name = \"data\"\n",
        "url = \"https://www.statmt.org/europarl/v7/fr-en.tgz\"\n",
        "\n",
        "\n",
        "# Create the folder if it doesn't already exist\n",
        "if not os.path.exists(folder_name):\n",
        "    os.makedirs(folder_name)\n",
        "\n",
        "# Download the file and save it in the folder\n",
        "filename = os.path.join(folder_name, \"fr-en.tgz\")\n",
        "response = requests.get(url, stream=True)\n",
        "with open(filename, \"wb\") as f:\n",
        "    for chunk in response.iter_content(chunk_size=1024):\n",
        "        f.write(chunk)\n",
        "\n",
        "print(\"File saved in folder:\", folder_name)"
      ],
      "metadata": {
        "colab": {
          "base_uri": "https://localhost:8080/"
        },
        "id": "6QTvXv71LenR",
        "outputId": "192f9c2f-e940-4fda-d3ac-c1441da65978"
      },
      "execution_count": 5,
      "outputs": [
        {
          "output_type": "stream",
          "name": "stdout",
          "text": [
            "File saved in folder: data\n"
          ]
        }
      ]
    },
    {
      "cell_type": "code",
      "execution_count": 6,
      "metadata": {
        "colab": {
          "base_uri": "https://localhost:8080/"
        },
        "id": "DbsX1RQEEhBn",
        "outputId": "104bdb97-c44c-4fe2-906d-0d538b6f6eec"
      },
      "outputs": [
        {
          "output_type": "stream",
          "name": "stdout",
          "text": [
            "Downloading helper.py\n",
            "Downloading project_tests.py\n"
          ]
        }
      ],
      "source": [
        "import urllib.request\n",
        "DOWNLOAD_ROOT = \"https://raw.githubusercontent.com/Sunday-Okey/NLP_Project_Machine_Translation/master/\"\n",
        "for filename in (\"helper.py\", \"project_tests.py\"):\n",
        "    print(\"Downloading\", filename)\n",
        "    url = DOWNLOAD_ROOT + filename\n",
        "    urllib.request.urlretrieve(url, filename)"
      ]
    },
    {
      "cell_type": "markdown",
      "source": [
        "### Extract the file"
      ],
      "metadata": {
        "id": "JRJAGqIdPZik"
      }
    },
    {
      "cell_type": "code",
      "source": [
        "import tarfile\n",
        "\n",
        "filename = \"data/fr-en.tgz\"\n",
        "folder = \"data\"\n",
        "\n",
        "# Extract the files from the archive\n",
        "with tarfile.open(filename, \"r:gz\") as tar:\n",
        "    tar.extractall(folder)\n",
        "\n",
        "print(\"Files extracted into the folder:\", folder)\n"
      ],
      "metadata": {
        "colab": {
          "base_uri": "https://localhost:8080/"
        },
        "id": "jOwIMMfiPYSO",
        "outputId": "2b876051-9496-4815-cb08-7c6ef7913bcf"
      },
      "execution_count": 7,
      "outputs": [
        {
          "output_type": "stream",
          "name": "stdout",
          "text": [
            "Files extracted into the folder: data\n"
          ]
        }
      ]
    },
    {
      "cell_type": "code",
      "source": [
        "import os\n",
        "\n",
        "# Get the current working directory\n",
        "current_dir = os.getcwd()\n",
        "\n",
        "# Specify the old file names and new names\n",
        "old_names = [\"europarl-v7.fr-en.en\", \"europarl-v7.fr-en.fr\"]\n",
        "new_names = [\"small_vocab_en\", \"small_vocab_fr\"]\n",
        "\n",
        "# Iterate over the old and new names and rename the files\n",
        "for i in range(len(old_names)):\n",
        "    old_path = os.path.join(current_dir, \"data\", old_names[i])\n",
        "    new_path = os.path.join(current_dir, \"data\", new_names[i])\n",
        "    os.rename(old_path, new_path)\n",
        "\n"
      ],
      "metadata": {
        "id": "btqDkmLlPuz8"
      },
      "execution_count": 9,
      "outputs": []
    },
    {
      "cell_type": "markdown",
      "source": [
        "Lets read in the data"
      ],
      "metadata": {
        "id": "NRZDcc7-TZ2_"
      }
    },
    {
      "cell_type": "code",
      "source": [
        "def load_data(path):\n",
        "    \"\"\"\n",
        "    Load dataset\n",
        "    \"\"\"\n",
        "    input_file = os.path.join(path)\n",
        "    with open(input_file, \"r\", encoding='utf-8') as f:\n",
        "        data = f.read()\n",
        "\n",
        "    return data.split('\\n')"
      ],
      "metadata": {
        "id": "kxaTF39FRSxp"
      },
      "execution_count": 10,
      "outputs": []
    },
    {
      "cell_type": "code",
      "source": [
        "# Load English data\n",
        "english_sentences = load_data('data/small_vocab_en')\n",
        "# Load French data\n",
        "french_sentences = load_data('data/small_vocab_fr')"
      ],
      "metadata": {
        "id": "9gDRYaRjUHiL"
      },
      "execution_count": 11,
      "outputs": []
    },
    {
      "cell_type": "code",
      "source": [
        "len(english_sentences)"
      ],
      "metadata": {
        "colab": {
          "base_uri": "https://localhost:8080/"
        },
        "id": "l2rAfj3HUS59",
        "outputId": "10b35eba-aec9-4bc3-e3ad-532fee20b365"
      },
      "execution_count": 13,
      "outputs": [
        {
          "output_type": "execute_result",
          "data": {
            "text/plain": [
              "2007724"
            ]
          },
          "metadata": {},
          "execution_count": 13
        }
      ]
    },
    {
      "cell_type": "code",
      "source": [],
      "metadata": {
        "id": "KrDK8mw7UYio"
      },
      "execution_count": null,
      "outputs": []
    }
  ]
}