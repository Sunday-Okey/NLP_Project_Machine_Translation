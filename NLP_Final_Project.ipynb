{
  "nbformat": 4,
  "nbformat_minor": 0,
  "metadata": {
    "colab": {
      "provenance": [],
      "toc_visible": true,
      "include_colab_link": true
    },
    "kernelspec": {
      "name": "python3",
      "display_name": "Python 3"
    },
    "language_info": {
      "name": "python"
    },
    "accelerator": "GPU",
    "gpuClass": "standard"
  },
  "cells": [
    {
      "cell_type": "markdown",
      "metadata": {
        "id": "view-in-github",
        "colab_type": "text"
      },
      "source": [
        "<a href=\"https://colab.research.google.com/github/Sunday-Okey/NLP_Project_Machine_Translation/blob/master/NLP_Final_Project.ipynb\" target=\"_parent\"><img src=\"https://colab.research.google.com/assets/colab-badge.svg\" alt=\"Open In Colab\"/></a>"
      ]
    },
    {
      "cell_type": "markdown",
      "source": [
        "#Setup"
      ],
      "metadata": {
        "id": "bfTRoQDEmR_2"
      }
    },
    {
      "cell_type": "code",
      "source": [
        "# Python ≥3.5 is required\n",
        "import sys\n",
        "assert sys.version_info >= (3, 5)\n",
        "\n",
        "# Is this notebook running on Colab or Kaggle?\n",
        "IS_COLAB = \"google.colab\" in sys.modules\n",
        "IS_KAGGLE = \"kaggle_secrets\" in sys.modules\n",
        "\n",
        "if IS_COLAB:\n",
        "    %pip install -q -U tensorflow-addons\n",
        "    %pip install -q -U transformers\n",
        "\n",
        "# Scikit-Learn ≥0.20 is required\n",
        "import sklearn\n",
        "assert sklearn.__version__ >= \"0.20\"\n",
        "\n",
        "# TensorFlow ≥2.0 is required\n",
        "import tensorflow as tf\n",
        "from tensorflow import keras\n",
        "assert tf.__version__ >= \"2.0\"\n",
        "\n",
        "\n",
        "if not tf.config.list_physical_devices('GPU'):\n",
        "    print(\"No GPU was detected. LSTMs and CNNs can be very slow without a GPU.\")\n",
        "    if IS_COLAB:\n",
        "        print(\"Go to Runtime > Change runtime and select a GPU hardware accelerator.\")\n",
        "    if IS_KAGGLE:\n",
        "        print(\"Go to Settings > Accelerator and select GPU.\")"
      ],
      "metadata": {
        "id": "1z3AZZJol2vO"
      },
      "execution_count": 1,
      "outputs": []
    },
    {
      "cell_type": "code",
      "source": [
        "pip install keras_preprocessing"
      ],
      "metadata": {
        "colab": {
          "base_uri": "https://localhost:8080/"
        },
        "id": "6mZI4EGI5LMp",
        "outputId": "e5ad44ac-25d7-40c2-8a44-eb7b5d010352"
      },
      "execution_count": 2,
      "outputs": [
        {
          "output_type": "stream",
          "name": "stdout",
          "text": [
            "Looking in indexes: https://pypi.org/simple, https://us-python.pkg.dev/colab-wheels/public/simple/\n",
            "Requirement already satisfied: keras_preprocessing in /usr/local/lib/python3.9/dist-packages (1.1.2)\n",
            "Requirement already satisfied: six>=1.9.0 in /usr/local/lib/python3.9/dist-packages (from keras_preprocessing) (1.16.0)\n",
            "Requirement already satisfied: numpy>=1.9.1 in /usr/local/lib/python3.9/dist-packages (from keras_preprocessing) (1.22.4)\n"
          ]
        }
      ]
    },
    {
      "cell_type": "code",
      "source": [
        "import os"
      ],
      "metadata": {
        "id": "IjeD0n_83Xd0"
      },
      "execution_count": 3,
      "outputs": []
    },
    {
      "cell_type": "code",
      "source": [
        "# Download the data\n",
        "import urllib.request\n",
        "datapath = os.path.join(\"data\", \"\")\n",
        "DOWNLOAD_ROOT = \"https://raw.githubusercontent.com/Sunday-Okey/NLP_Project_Machine_Translation/master\"\n",
        "os.makedirs(datapath, exist_ok=True)\n",
        "for filename in (\"small_vocab_en\", \"small_vocab_fr\"):\n",
        "    print(\"Downloading\", filename)\n",
        "    url = DOWNLOAD_ROOT + \"/data/\" + filename\n",
        "    urllib.request.urlretrieve(url, datapath + filename)"
      ],
      "metadata": {
        "colab": {
          "base_uri": "https://localhost:8080/"
        },
        "id": "KoM3yCgN2TFq",
        "outputId": "65528873-447f-4f8a-8c27-471e13423588"
      },
      "execution_count": 4,
      "outputs": [
        {
          "output_type": "stream",
          "name": "stdout",
          "text": [
            "Downloading small_vocab_en\n",
            "Downloading small_vocab_fr\n"
          ]
        }
      ]
    },
    {
      "cell_type": "code",
      "source": [
        "# Download project files\n",
        "import urllib.request\n",
        "DOWNLOAD_ROOT = \"https://raw.githubusercontent.com/Sunday-Okey/NLP_Project_Machine_Translation/master/\"\n",
        "for filename in (\"helper.py\", \"project_tests.py\"):\n",
        "    print(\"Downloading\", filename)\n",
        "    url = DOWNLOAD_ROOT + filename\n",
        "    urllib.request.urlretrieve(url, filename)"
      ],
      "metadata": {
        "colab": {
          "base_uri": "https://localhost:8080/"
        },
        "id": "pN-VHlov3xn8",
        "outputId": "24e8e1b1-0ec9-4027-c988-b944bfc27a98"
      },
      "execution_count": 5,
      "outputs": [
        {
          "output_type": "stream",
          "name": "stdout",
          "text": [
            "Downloading helper.py\n",
            "Downloading project_tests.py\n"
          ]
        }
      ]
    },
    {
      "cell_type": "code",
      "execution_count": 6,
      "metadata": {
        "id": "ZxNpiCTqic3i"
      },
      "outputs": [],
      "source": [
        "# import the libraries\n",
        "import collections\n",
        "import helper\n",
        "import numpy as np\n",
        "import project_tests as tests\n",
        "\n",
        "from keras.preprocessing.text import Tokenizer\n",
        "from keras_preprocessing.sequence import pad_sequences\n",
        "from keras.models import Model\n",
        "from keras.layers import LSTM, GRU, Input, Dense, TimeDistributed, Activation, RepeatVector, Bidirectional, Dropout\n",
        "from tensorflow.keras.layers import Embedding\n",
        "from keras.optimizers import Adam\n",
        "from keras.losses import sparse_categorical_crossentropy\n",
        "\n",
        "from sklearn.model_selection import train_test_split"
      ]
    },
    {
      "cell_type": "code",
      "source": [
        "# Load English data\n",
        "english_sentences = helper.load_data('data/small_vocab_en')\n",
        "# Load French data\n",
        "french_sentences = helper.load_data('data/small_vocab_fr')\n",
        "\n",
        "print('Dataset Loaded')\n",
        "print(type(english_sentences))"
      ],
      "metadata": {
        "colab": {
          "base_uri": "https://localhost:8080/"
        },
        "id": "_CEYsG2dleOD",
        "outputId": "b4e1a39d-a199-423c-b11b-d2e972a759b3"
      },
      "execution_count": 7,
      "outputs": [
        {
          "output_type": "stream",
          "name": "stdout",
          "text": [
            "Dataset Loaded\n",
            "<class 'list'>\n"
          ]
        }
      ]
    },
    {
      "cell_type": "markdown",
      "source": [
        "Let's begin by investigating the dataset that will be used to train and evaluate our pipeline"
      ],
      "metadata": {
        "id": "89SxEF_aoIKq"
      }
    },
    {
      "cell_type": "markdown",
      "source": [
        "## Files\n",
        "\n",
        "Each line in small_vocab_en contains an English sentence with the respective translation in each line of small_vocab_fr. View the first two lines from each file."
      ],
      "metadata": {
        "id": "wztnuX8MoZvU"
      }
    },
    {
      "cell_type": "code",
      "source": [
        "for sample in range(2):\n",
        "    print(f'small_vocab_en Line {sample + 1}:  {english_sentences[sample]}')\n",
        "    print(f'small_vocab_fr Line {sample + 1}:  {english_sentences[sample]}')"
      ],
      "metadata": {
        "colab": {
          "base_uri": "https://localhost:8080/"
        },
        "id": "Asok5ExZoYQS",
        "outputId": "85f73b5f-deb1-4da4-c83a-7d53248f6a22"
      },
      "execution_count": 8,
      "outputs": [
        {
          "output_type": "stream",
          "name": "stdout",
          "text": [
            "small_vocab_en Line 1:  new jersey is sometimes quiet during autumn , and it is snowy in april .\n",
            "small_vocab_fr Line 1:  new jersey is sometimes quiet during autumn , and it is snowy in april .\n",
            "small_vocab_en Line 2:  the united states is usually chilly during july , and it is usually freezing in november .\n",
            "small_vocab_fr Line 2:  the united states is usually chilly during july , and it is usually freezing in november .\n"
          ]
        }
      ]
    },
    {
      "cell_type": "markdown",
      "source": [
        "From looking at the sentences, we can see they have been preprocessed already. The puncuations have been replaced by spaces. All the text have been converted to lowercase."
      ],
      "metadata": {
        "id": "yin66vxHpXz1"
      }
    },
    {
      "cell_type": "markdown",
      "source": [
        "### Vocabulary\n",
        "\n",
        "The complexity of the problem is determined by the complexity of the vocabulary. A more complex vocabulary is a more complex problem. Let's look at the complexity of the dataset we'll be working with."
      ],
      "metadata": {
        "id": "qb1w0zlv3LRx"
      }
    },
    {
      "cell_type": "code",
      "source": [
        "english_words_counter = collections.Counter([word for sentence in english_sentences for word in sentence.split()])\n",
        "french_words_counter = collections.Counter([word for sentence in french_sentences for word in sentence.split()])\n",
        "\n",
        "print('{} English words.'.format(len([word for sentence in english_sentences for word in sentence.split()])))\n",
        "print('{} unique English words.'.format(len(english_words_counter)))\n",
        "print('10 Most common words in the English dataset:')\n",
        "print('\"' + '\" \"'.join(list(zip(*english_words_counter.most_common(10)))[0]) + '\"')\n",
        "print()\n",
        "print('{} French words.'.format(len([word for sentence in french_sentences for word in sentence.split()])))\n",
        "print('{} unique French words.'.format(len(french_words_counter)))\n",
        "print('10 Most common words in the French dataset:')\n",
        "print('\"' + '\" \"'.join(list(zip(*french_words_counter.most_common(10)))[0]) + '\"')"
      ],
      "metadata": {
        "id": "19kOY85I5hi3",
        "outputId": "253c3e74-a7a4-4f8a-f7b8-5b97b96cf66d",
        "colab": {
          "base_uri": "https://localhost:8080/"
        }
      },
      "execution_count": 9,
      "outputs": [
        {
          "output_type": "stream",
          "name": "stdout",
          "text": [
            "1823250 English words.\n",
            "227 unique English words.\n",
            "10 Most common words in the English dataset:\n",
            "\"is\" \",\" \".\" \"in\" \"it\" \"during\" \"the\" \"but\" \"and\" \"sometimes\"\n",
            "\n",
            "1961295 French words.\n",
            "355 unique French words.\n",
            "10 Most common words in the French dataset:\n",
            "\"est\" \".\" \",\" \"en\" \"il\" \"les\" \"mais\" \"et\" \"la\" \"parfois\"\n"
          ]
        }
      ]
    },
    {
      "cell_type": "markdown",
      "source": [
        "For comparison, Alice's Adventures in Wonderland contains 2,766 unique words of a total of 15,500 words."
      ],
      "metadata": {
        "id": "48ywzHE23d-1"
      }
    },
    {
      "cell_type": "markdown",
      "source": [
        "### Preprocess\n",
        "\n",
        "For this project, you won't use text data as input to your model. Instead, you'll convert the text into sequences of integers using the following preprocess methods:\n",
        "\n",
        "Tokenize the words into ids\n",
        "Add padding to make all the sequences the same length.\n",
        "Time to start preprocessing the data..."
      ],
      "metadata": {
        "id": "e5wYIWEP3ibk"
      }
    },
    {
      "cell_type": "markdown",
      "source": [
        "### Tokenize (IMPLEMENTATION)\n",
        "\n",
        "For a neural network to predict on text data, it first has to be turned into data it can understand. Text data like \"dog\" is a sequence of ASCII character encodings. Since a neural network is a series of multiplication and addition operations, the input data needs to be number(s).\n",
        "\n",
        "We can turn each character into a number or each word into a number. These are called character and word ids, respectively. Character ids are used for character level models that generate text predictions for each character. A word level model uses word ids that generate text predictions for each word. Word level models tend to learn better, since they are lower in complexity, so we'll use those.\n",
        "\n",
        "Turn each sentence into a sequence of words ids using Keras's Tokenizer function. Use this function to tokenize english_sentences and french_sentences in the cell below.\n",
        "\n",
        "Running the cell will run tokenize on sample data and show output for debugging."
      ],
      "metadata": {
        "id": "f3tUwhW93nOx"
      }
    },
    {
      "cell_type": "code",
      "source": [
        "def tokenize(x):\n",
        "    \"\"\"\n",
        "    Tokenize x\n",
        "    :param x: List of sentences/strings to be tokenized\n",
        "    :return: Tuple of (tokenized x data, tokenizer used to tokenize x)\n",
        "    \"\"\"\n",
        "    # TODO: Implement\n",
        "    t = Tokenizer()\n",
        "    # fit the tokenizer on the documents\n",
        "    t.fit_on_texts(x)\n",
        "    return t.texts_to_sequences(x), t\n",
        "tests.test_tokenize(tokenize)\n",
        "\n",
        "# Tokenize Example output\n",
        "text_sentences = [\n",
        "    'The quick brown fox jumps over the lazy dog .',\n",
        "    'By Jove , my quick study of lexicography won a prize .',\n",
        "    'This is a short sentence .']\n",
        "text_tokenized, text_tokenizer = tokenize(text_sentences)\n",
        "print(text_tokenizer.word_index)\n",
        "print()\n",
        "for sample_i, (sent, token_sent) in enumerate(zip(text_sentences, text_tokenized)):\n",
        "    print('Sequence {} in x'.format(sample_i + 1))\n",
        "    print('  Input:  {}'.format(sent))\n",
        "    print('  Output: {}'.format(token_sent))"
      ],
      "metadata": {
        "id": "oVUaTb0Cmip4",
        "outputId": "859fc01c-0099-449a-a97a-935e85df6472",
        "colab": {
          "base_uri": "https://localhost:8080/"
        }
      },
      "execution_count": 10,
      "outputs": [
        {
          "output_type": "stream",
          "name": "stdout",
          "text": [
            "{'the': 1, 'quick': 2, 'a': 3, 'brown': 4, 'fox': 5, 'jumps': 6, 'over': 7, 'lazy': 8, 'dog': 9, 'by': 10, 'jove': 11, 'my': 12, 'study': 13, 'of': 14, 'lexicography': 15, 'won': 16, 'prize': 17, 'this': 18, 'is': 19, 'short': 20, 'sentence': 21}\n",
            "\n",
            "Sequence 1 in x\n",
            "  Input:  The quick brown fox jumps over the lazy dog .\n",
            "  Output: [1, 2, 4, 5, 6, 7, 1, 8, 9]\n",
            "Sequence 2 in x\n",
            "  Input:  By Jove , my quick study of lexicography won a prize .\n",
            "  Output: [10, 11, 12, 2, 13, 14, 15, 16, 3, 17]\n",
            "Sequence 3 in x\n",
            "  Input:  This is a short sentence .\n",
            "  Output: [18, 19, 3, 20, 21]\n"
          ]
        }
      ]
    },
    {
      "cell_type": "markdown",
      "source": [
        "### Padding (IMPLEMENTATION)\n",
        "\n",
        "When batching the sequence of word ids together, each sequence needs to be the same length. Since sentences are dynamic in length, we can add padding to the end of the sequences to make them the same length.\n",
        "\n",
        "Make sure all the English sequences have the same length and all the French sequences have the same length by adding padding to the end of each sequence using Keras's pad_sequences function."
      ],
      "metadata": {
        "id": "NBzCXRow32U1"
      }
    },
    {
      "cell_type": "code",
      "source": [
        "def pad(x, length=None):\n",
        "    \"\"\"\n",
        "    Pad x\n",
        "    :param x: List of sequences.\n",
        "    :param length: Length to pad the sequence to.  If None, use length of longest sequence in x.\n",
        "    :return: Padded numpy array of sequences\n",
        "    \"\"\"\n",
        "    # TODO: Implement\n",
        "    if length is None:\n",
        "        length = max([len(sentence) for sentence in x])\n",
        "    return pad_sequences(x, maxlen=length, padding='post')\n",
        "tests.test_pad(pad)\n",
        "\n",
        "# Pad Tokenized output\n",
        "test_pad = pad(text_tokenized)\n",
        "for sample_i, (token_sent, pad_sent) in enumerate(zip(text_tokenized, test_pad)):\n",
        "    print('Sequence {} in x'.format(sample_i + 1))\n",
        "    print('  Input:  {}'.format(np.array(token_sent)))\n",
        "    print('  Output: {}'.format(pad_sent))"
      ],
      "metadata": {
        "id": "RRaKJ3oQ5hHJ",
        "outputId": "e6be5223-5164-411d-dd30-f3d25ec1507c",
        "colab": {
          "base_uri": "https://localhost:8080/"
        }
      },
      "execution_count": 11,
      "outputs": [
        {
          "output_type": "stream",
          "name": "stdout",
          "text": [
            "Sequence 1 in x\n",
            "  Input:  [1 2 4 5 6 7 1 8 9]\n",
            "  Output: [1 2 4 5 6 7 1 8 9 0]\n",
            "Sequence 2 in x\n",
            "  Input:  [10 11 12  2 13 14 15 16  3 17]\n",
            "  Output: [10 11 12  2 13 14 15 16  3 17]\n",
            "Sequence 3 in x\n",
            "  Input:  [18 19  3 20 21]\n",
            "  Output: [18 19  3 20 21  0  0  0  0  0]\n"
          ]
        }
      ]
    },
    {
      "cell_type": "markdown",
      "source": [
        "### Preprocess Pipeline\n",
        "\n",
        "Your focus for this project is to build neural network architecture, so we won't ask you to create a preprocess pipeline. Instead, we've provided you with the implementation of the preprocess function."
      ],
      "metadata": {
        "id": "KsGUKQJX3_Fc"
      }
    },
    {
      "cell_type": "code",
      "source": [
        "def preprocess(x, y):\n",
        "    \"\"\"\n",
        "    Preprocess x and y\n",
        "    :param x: Feature List of sentences\n",
        "    :param y: Label List of sentences\n",
        "    :return: Tuple of (Preprocessed x, Preprocessed y, x tokenizer, y tokenizer)\n",
        "    \"\"\"\n",
        "    preprocess_x, x_tk = tokenize(x)\n",
        "    preprocess_y, y_tk = tokenize(y)\n",
        "\n",
        "    preprocess_x = pad(preprocess_x)\n",
        "    preprocess_y = pad(preprocess_y)\n",
        "\n",
        "    # Keras's sparse_categorical_crossentropy function requires the labels to be in 3 dimensions\n",
        "    preprocess_y = preprocess_y.reshape(*preprocess_y.shape, 1)\n",
        "\n",
        "    return preprocess_x, preprocess_y, x_tk, y_tk\n",
        "\n",
        "preproc_english_sentences, preproc_french_sentences, english_tokenizer, french_tokenizer =\\\n",
        "    preprocess(english_sentences, french_sentences)\n",
        "    \n",
        "max_english_sequence_length = preproc_english_sentences.shape[1]\n",
        "max_french_sequence_length = preproc_french_sentences.shape[1]\n",
        "english_vocab_size = len(english_tokenizer.word_index)\n",
        "french_vocab_size = len(french_tokenizer.word_index)\n",
        "\n",
        "print('Data Preprocessed')\n",
        "print(\"Max English sentence length:\", max_english_sequence_length)\n",
        "print(\"Max French sentence length:\", max_french_sequence_length)\n",
        "print(\"English vocabulary size:\", english_vocab_size)\n",
        "print(\"French vocabulary size:\", french_vocab_size)"
      ],
      "metadata": {
        "id": "D9ncNJnJoL77",
        "outputId": "4f0fc745-9793-46cf-bcbd-7b5e0a2fc5f1",
        "colab": {
          "base_uri": "https://localhost:8080/"
        }
      },
      "execution_count": 12,
      "outputs": [
        {
          "output_type": "stream",
          "name": "stdout",
          "text": [
            "Data Preprocessed\n",
            "Max English sentence length: 15\n",
            "Max French sentence length: 21\n",
            "English vocabulary size: 199\n",
            "French vocabulary size: 344\n"
          ]
        }
      ]
    },
    {
      "cell_type": "markdown",
      "source": [
        "### Models\n",
        "\n",
        "In this section, you will experiment with various neural network architectures. You will begin by training four relatively simple architectures.\n",
        "\n",
        "Model 1 is a simple RNN\n",
        "Model 2 is a RNN with Embedding\n",
        "Model 3 is a Bidirectional RNN\n",
        "Model 4 is an optional Encoder-Decoder RNN\n",
        "\n",
        "\n",
        "After experimenting with the four simple architectures, you will construct a deeper architecture that is designed to outperform all four models."
      ],
      "metadata": {
        "id": "hyLKOtLz4Gsi"
      }
    },
    {
      "cell_type": "markdown",
      "source": [
        "### Ids Back to Text\n",
        "\n",
        "The neural network will be translating the input to words ids, which isn't the final form we want. We want the French translation. The function logits_to_text will bridge the gab between the logits from the neural network to the French translation. You'll be using this function to better understand the output of the neural network."
      ],
      "metadata": {
        "id": "HUKB9vcw4PpD"
      }
    },
    {
      "cell_type": "code",
      "source": [
        "def logits_to_text(logits, tokenizer):\n",
        "    \"\"\"\n",
        "    Turn logits from a neural network into text using the tokenizer\n",
        "    :param logits: Logits from a neural network\n",
        "    :param tokenizer: Keras Tokenizer fit on the labels\n",
        "    :return: String that represents the text of the logits\n",
        "    \"\"\"\n",
        "    index_to_words = {id: word for word, id in tokenizer.word_index.items()}\n",
        "    index_to_words[0] = '<PAD>'\n",
        "\n",
        "    return ' '.join([index_to_words[prediction] for prediction in np.argmax(logits, 1)])\n",
        "\n",
        "print('`logits_to_text` function loaded.')"
      ],
      "metadata": {
        "id": "SGycqDvr4Ihn",
        "outputId": "fb4ef347-bfc1-4584-ffc3-f098bf66153b",
        "colab": {
          "base_uri": "https://localhost:8080/"
        }
      },
      "execution_count": 13,
      "outputs": [
        {
          "output_type": "stream",
          "name": "stdout",
          "text": [
            "`logits_to_text` function loaded.\n"
          ]
        }
      ]
    },
    {
      "cell_type": "markdown",
      "source": [
        "## Model 1: RNN (IMPLEMENTATION)"
      ],
      "metadata": {
        "id": "LbKJIKWD4iyc"
      }
    },
    {
      "cell_type": "markdown",
      "source": [
        "![](https://raw.githubusercontent.com/Philipp2211/Udacity-Natural-Language-Processing-Nanodegree/master/9.%20Project%20Machine%20Translation/images/rnn.png)"
      ],
      "metadata": {
        "id": "vFU0Qoq_4i-P"
      }
    },
    {
      "cell_type": "markdown",
      "source": [
        "A basic RNN model is a good baseline for sequence data. In this model, you'll build a RNN that translates English to French."
      ],
      "metadata": {
        "id": "7CXGYgKX4-kq"
      }
    },
    {
      "cell_type": "code",
      "source": [
        "def simple_model(input_shape, output_sequence_length, english_vocab_size, french_vocab_size):\n",
        "    \"\"\"\n",
        "    Build and train a basic RNN on x and y\n",
        "    :param input_shape: Tuple of input shape\n",
        "    :param output_sequence_length: Length of output sequence\n",
        "    :param english_vocab_size: Number of unique English words in the dataset\n",
        "    :param french_vocab_size: Number of unique French words in the dataset\n",
        "    :return: Keras model built, but not trained\n",
        "    \"\"\"\n",
        "    # TODO: Build the layers\n",
        "    learning_rate = 1e-3\n",
        "\n",
        "    input_seq = Input(input_shape[1:])\n",
        "    rnn = GRU(400, return_sequences=True)(input_seq)\n",
        "    logits = TimeDistributed(Dense(french_vocab_size))(rnn)\n",
        "\n",
        "    model = Model(input_seq, Activation('softmax')(logits))\n",
        "    model.compile(loss=sparse_categorical_crossentropy,\n",
        "                  optimizer=Adam(learning_rate),\n",
        "                  metrics=['accuracy'])\n",
        "    return model\n",
        "tests.test_simple_model(simple_model)\n",
        "\n",
        "# Reshaping the input to work with a basic RNN\n",
        "tmp_x = pad(preproc_english_sentences, max_french_sequence_length)\n",
        "tmp_x = tmp_x.reshape((-1, preproc_french_sentences.shape[-2], 1))\n",
        "\n",
        "# Train the neural network\n",
        "simple_rnn_model = simple_model(\n",
        "    tmp_x.shape,\n",
        "    max_french_sequence_length,\n",
        "    english_vocab_size,\n",
        "    french_vocab_size)\n",
        "print(simple_rnn_model.summary())\n",
        "simple_rnn_model.fit(tmp_x, preproc_french_sentences, batch_size=1024, epochs=10, validation_split=0.2)\n",
        "\n",
        "# Print prediction(s)\n",
        "print(logits_to_text(simple_rnn_model.predict(tmp_x[:1])[0], french_tokenizer))"
      ],
      "metadata": {
        "id": "nWFywgwd4oT_",
        "outputId": "75d25442-8a7e-48f8-9e75-e033ecfc3b58",
        "colab": {
          "base_uri": "https://localhost:8080/"
        }
      },
      "execution_count": 14,
      "outputs": [
        {
          "output_type": "stream",
          "name": "stdout",
          "text": [
            "Model: \"model_1\"\n",
            "_________________________________________________________________\n",
            " Layer (type)                Output Shape              Param #   \n",
            "=================================================================\n",
            " input_2 (InputLayer)        [(None, 21, 1)]           0         \n",
            "                                                                 \n",
            " gru_1 (GRU)                 (None, 21, 400)           483600    \n",
            "                                                                 \n",
            " time_distributed_1 (TimeDis  (None, 21, 344)          137944    \n",
            " tributed)                                                       \n",
            "                                                                 \n",
            " activation_1 (Activation)   (None, 21, 344)           0         \n",
            "                                                                 \n",
            "=================================================================\n",
            "Total params: 621,544\n",
            "Trainable params: 621,544\n",
            "Non-trainable params: 0\n",
            "_________________________________________________________________\n",
            "None\n",
            "Epoch 1/10\n",
            "108/108 [==============================] - 8s 47ms/step - loss: 2.3403 - accuracy: 0.5052 - val_loss: nan - val_accuracy: 0.5785\n",
            "Epoch 2/10\n",
            "108/108 [==============================] - 5s 43ms/step - loss: 1.5062 - accuracy: 0.6028 - val_loss: nan - val_accuracy: 0.6181\n",
            "Epoch 3/10\n",
            "108/108 [==============================] - 5s 43ms/step - loss: 1.3080 - accuracy: 0.6309 - val_loss: nan - val_accuracy: 0.6423\n",
            "Epoch 4/10\n",
            "108/108 [==============================] - 5s 43ms/step - loss: 1.1877 - accuracy: 0.6537 - val_loss: nan - val_accuracy: 0.6619\n",
            "Epoch 5/10\n",
            "108/108 [==============================] - 4s 41ms/step - loss: 1.1110 - accuracy: 0.6669 - val_loss: nan - val_accuracy: 0.6725\n",
            "Epoch 6/10\n",
            "108/108 [==============================] - 5s 42ms/step - loss: 1.0558 - accuracy: 0.6747 - val_loss: nan - val_accuracy: 0.6726\n",
            "Epoch 7/10\n",
            "108/108 [==============================] - 5s 45ms/step - loss: 1.0145 - accuracy: 0.6790 - val_loss: nan - val_accuracy: 0.6827\n",
            "Epoch 8/10\n",
            "108/108 [==============================] - 5s 45ms/step - loss: 0.9752 - accuracy: 0.6850 - val_loss: nan - val_accuracy: 0.6889\n",
            "Epoch 9/10\n",
            "108/108 [==============================] - 5s 43ms/step - loss: 0.9483 - accuracy: 0.6892 - val_loss: nan - val_accuracy: 0.6878\n",
            "Epoch 10/10\n",
            "108/108 [==============================] - 5s 44ms/step - loss: 0.9194 - accuracy: 0.6952 - val_loss: nan - val_accuracy: 0.7006\n",
            "1/1 [==============================] - 0s 310ms/step\n",
            "new jersey est parfois calme en l' et il il est est en en <PAD> <PAD> <PAD> <PAD> <PAD> <PAD> <PAD>\n"
          ]
        }
      ]
    },
    {
      "cell_type": "markdown",
      "source": [
        "## Model 2: Embedding (IMPLEMENTATION)"
      ],
      "metadata": {
        "id": "-HjTaQTi5Nl9"
      }
    },
    {
      "cell_type": "markdown",
      "source": [
        "![](https://raw.githubusercontent.com/Philipp2211/Udacity-Natural-Language-Processing-Nanodegree/master/9.%20Project%20Machine%20Translation/images/embedding.png)"
      ],
      "metadata": {
        "id": "TMtLLYKr5XdV"
      }
    },
    {
      "cell_type": "markdown",
      "source": [
        "You've turned the words into ids, but there's a better representation of a word. This is called word embeddings. An embedding is a vector representation of the word that is close to similar words in n-dimensional space, where the n represents the size of the embedding vectors.\n",
        "\n",
        "\n",
        "In this model, you'll create a RNN model using embedding."
      ],
      "metadata": {
        "id": "VJbTsssv5eQz"
      }
    },
    {
      "cell_type": "code",
      "source": [
        "def embed_model(input_shape, output_sequence_length, english_vocab_size, french_vocab_size):\n",
        "    \"\"\"\n",
        "    Build and train a RNN model using word embedding on x and y\n",
        "    :param input_shape: Tuple of input shape\n",
        "    :param output_sequence_length: Length of output sequence\n",
        "    :param english_vocab_size: Number of unique English words in the dataset\n",
        "    :param french_vocab_size: Number of unique French words in the dataset\n",
        "    :return: Keras model built, but not trained\n",
        "    \"\"\"\n",
        "    # TODO: Implement\n",
        "    learning_rate = 1e-3\n",
        "\n",
        "    input_seq = Input(input_shape[1:])\n",
        "    embedding=Embedding(input_dim=english_vocab_size, output_dim=256)(input_seq)\n",
        "    rnn = GRU(400, return_sequences=True)(embedding)\n",
        "    logits = TimeDistributed(Dense(french_vocab_size))(rnn)\n",
        "\n",
        "    model = Model(input_seq, Activation('softmax')(logits))\n",
        "    model.compile(loss=sparse_categorical_crossentropy,\n",
        "                  optimizer=Adam(learning_rate),\n",
        "                  metrics=['accuracy'])\n",
        "    \n",
        "    return model\n",
        "\n",
        "tests.test_embed_model(embed_model)\n",
        "\n",
        "\n",
        "# TODO: Reshape the input\n",
        "tmp_x = pad(preproc_english_sentences, max_french_sequence_length)\n",
        "\n",
        "# TODO: Train the neural network\n",
        "embedding_rnn_model = embed_model(\n",
        "    tmp_x.shape,\n",
        "    max_french_sequence_length,\n",
        "    english_vocab_size,\n",
        "    french_vocab_size)\n",
        "print(embedding_rnn_model.summary())\n",
        "embedding_rnn_model.fit(tmp_x, preproc_french_sentences, batch_size=1024, epochs=10, validation_split=0.2)\n",
        "\n",
        "# TODO: Print prediction(s)\n",
        "print(logits_to_text(embedding_rnn_model.predict(tmp_x[:1])[0], french_tokenizer))"
      ],
      "metadata": {
        "id": "utup86qe5PWP",
        "outputId": "b68d2597-5d00-4e38-b7ac-ceaab72e37ca",
        "colab": {
          "base_uri": "https://localhost:8080/"
        }
      },
      "execution_count": 15,
      "outputs": [
        {
          "output_type": "stream",
          "name": "stdout",
          "text": [
            "Model: \"model_3\"\n",
            "_________________________________________________________________\n",
            " Layer (type)                Output Shape              Param #   \n",
            "=================================================================\n",
            " input_4 (InputLayer)        [(None, 21)]              0         \n",
            "                                                                 \n",
            " embedding_1 (Embedding)     (None, 21, 256)           50944     \n",
            "                                                                 \n",
            " gru_3 (GRU)                 (None, 21, 400)           789600    \n",
            "                                                                 \n",
            " time_distributed_3 (TimeDis  (None, 21, 344)          137944    \n",
            " tributed)                                                       \n",
            "                                                                 \n",
            " activation_3 (Activation)   (None, 21, 344)           0         \n",
            "                                                                 \n",
            "=================================================================\n",
            "Total params: 978,488\n",
            "Trainable params: 978,488\n",
            "Non-trainable params: 0\n",
            "_________________________________________________________________\n",
            "None\n",
            "Epoch 1/10\n",
            "108/108 [==============================] - 8s 58ms/step - loss: 2.8012 - accuracy: 0.4765 - val_loss: nan - val_accuracy: 0.5927\n",
            "Epoch 2/10\n",
            "108/108 [==============================] - 6s 54ms/step - loss: 1.3072 - accuracy: 0.6908 - val_loss: nan - val_accuracy: 0.7663\n",
            "Epoch 3/10\n",
            "108/108 [==============================] - 6s 55ms/step - loss: 0.7463 - accuracy: 0.7997 - val_loss: nan - val_accuracy: 0.8290\n",
            "Epoch 4/10\n",
            "108/108 [==============================] - 6s 54ms/step - loss: 0.5137 - accuracy: 0.8478 - val_loss: nan - val_accuracy: 0.8652\n",
            "Epoch 5/10\n",
            "108/108 [==============================] - 6s 52ms/step - loss: 0.3989 - accuracy: 0.8761 - val_loss: nan - val_accuracy: 0.8861\n",
            "Epoch 6/10\n",
            "108/108 [==============================] - 6s 54ms/step - loss: 0.3383 - accuracy: 0.8925 - val_loss: nan - val_accuracy: 0.8983\n",
            "Epoch 7/10\n",
            "108/108 [==============================] - 6s 52ms/step - loss: 0.2973 - accuracy: 0.9043 - val_loss: nan - val_accuracy: 0.9097\n",
            "Epoch 8/10\n",
            "108/108 [==============================] - 6s 54ms/step - loss: 0.2683 - accuracy: 0.9126 - val_loss: nan - val_accuracy: 0.9145\n",
            "Epoch 9/10\n",
            "108/108 [==============================] - 6s 52ms/step - loss: 0.2492 - accuracy: 0.9181 - val_loss: nan - val_accuracy: 0.9186\n",
            "Epoch 10/10\n",
            "108/108 [==============================] - 6s 53ms/step - loss: 0.2348 - accuracy: 0.9218 - val_loss: nan - val_accuracy: 0.9229\n",
            "1/1 [==============================] - 0s 326ms/step\n",
            "new jersey est parfois calme en l' automne et il est neigeux en avril <PAD> <PAD> <PAD> <PAD> <PAD> <PAD> <PAD>\n"
          ]
        }
      ]
    },
    {
      "cell_type": "markdown",
      "source": [
        "## Model 3: Bidirectional RNNs (IMPLEMENTATION)"
      ],
      "metadata": {
        "id": "xIUTEjltH4Za"
      }
    },
    {
      "cell_type": "markdown",
      "source": [
        "![](https://raw.githubusercontent.com/Philipp2211/Udacity-Natural-Language-Processing-Nanodegree/master/9.%20Project%20Machine%20Translation/images/bidirectional.png)"
      ],
      "metadata": {
        "id": "zFcMnZLTIFSd"
      }
    },
    {
      "cell_type": "markdown",
      "source": [
        "One restriction of a RNN is that it can't see the future input, only the past. This is where bidirectional recurrent neural networks come in. They are able to see the future data."
      ],
      "metadata": {
        "id": "lSQUugEiIQQB"
      }
    },
    {
      "cell_type": "code",
      "source": [
        "def bd_model(input_shape, output_sequence_length, english_vocab_size, french_vocab_size):\n",
        "    \"\"\"\n",
        "    Build and train a bidirectional RNN model on x and y\n",
        "    :param input_shape: Tuple of input shape\n",
        "    :param output_sequence_length: Length of output sequence\n",
        "    :param english_vocab_size: Number of unique English words in the dataset\n",
        "    :param french_vocab_size: Number of unique French words in the dataset\n",
        "    :return: Keras model built, but not trained\n",
        "    \"\"\"\n",
        "    # TODO: Implement\n",
        "    learning_rate = 1e-3\n",
        "\n",
        "    input_seq = Input(input_shape[1:])\n",
        "    rnn = Bidirectional(GRU(400, return_sequences=True))(input_seq)\n",
        "    logits = TimeDistributed(Dense(french_vocab_size))(rnn)\n",
        "\n",
        "    model = Model(input_seq, Activation('softmax')(logits))\n",
        "    model.compile(loss=sparse_categorical_crossentropy,\n",
        "                  optimizer=Adam(learning_rate),\n",
        "                  metrics=['accuracy'])\n",
        "    \n",
        "    return model\n",
        "tests.test_bd_model(bd_model)\n",
        "\n",
        "\n",
        "# TODO: Train and Print prediction(s)\n",
        "tmp_x = pad(preproc_english_sentences, max_french_sequence_length)\n",
        "tmp_x = tmp_x.reshape((-1, preproc_french_sentences.shape[-2], 1))\n",
        "\n",
        "bidirectional_rnn_model = bd_model(\n",
        "    tmp_x.shape,\n",
        "    max_french_sequence_length,\n",
        "    english_vocab_size,\n",
        "    french_vocab_size)\n",
        "print(bidirectional_rnn_model.summary())\n",
        "bidirectional_rnn_model.fit(tmp_x, preproc_french_sentences, batch_size=1024, epochs=10, validation_split=0.2)\n",
        "\n",
        "print(logits_to_text(bidirectional_rnn_model.predict(tmp_x[:1])[0], french_tokenizer))"
      ],
      "metadata": {
        "id": "4szAlLlBGmtu",
        "outputId": "8a9efab8-57cc-441d-bcf6-edc46b4335a3",
        "colab": {
          "base_uri": "https://localhost:8080/"
        }
      },
      "execution_count": 16,
      "outputs": [
        {
          "output_type": "stream",
          "name": "stdout",
          "text": [
            "Model: \"model_5\"\n",
            "_________________________________________________________________\n",
            " Layer (type)                Output Shape              Param #   \n",
            "=================================================================\n",
            " input_6 (InputLayer)        [(None, 21, 1)]           0         \n",
            "                                                                 \n",
            " bidirectional_1 (Bidirectio  (None, 21, 800)          967200    \n",
            " nal)                                                            \n",
            "                                                                 \n",
            " time_distributed_5 (TimeDis  (None, 21, 344)          275544    \n",
            " tributed)                                                       \n",
            "                                                                 \n",
            " activation_5 (Activation)   (None, 21, 344)           0         \n",
            "                                                                 \n",
            "=================================================================\n",
            "Total params: 1,242,744\n",
            "Trainable params: 1,242,744\n",
            "Non-trainable params: 0\n",
            "_________________________________________________________________\n",
            "None\n",
            "Epoch 1/10\n",
            "108/108 [==============================] - 12s 87ms/step - loss: 1.9414 - accuracy: 0.5629 - val_loss: nan - val_accuracy: 0.6200\n",
            "Epoch 2/10\n",
            "108/108 [==============================] - 9s 85ms/step - loss: 1.2864 - accuracy: 0.6386 - val_loss: nan - val_accuracy: 0.6522\n",
            "Epoch 3/10\n",
            "108/108 [==============================] - 9s 82ms/step - loss: 1.1266 - accuracy: 0.6714 - val_loss: nan - val_accuracy: 0.6855\n",
            "Epoch 4/10\n",
            "108/108 [==============================] - 9s 82ms/step - loss: 1.0220 - accuracy: 0.6918 - val_loss: nan - val_accuracy: 0.6977\n",
            "Epoch 5/10\n",
            "108/108 [==============================] - 9s 79ms/step - loss: 0.9512 - accuracy: 0.7020 - val_loss: nan - val_accuracy: 0.7063\n",
            "Epoch 6/10\n",
            "108/108 [==============================] - 9s 84ms/step - loss: 0.8977 - accuracy: 0.7099 - val_loss: nan - val_accuracy: 0.7143\n",
            "Epoch 7/10\n",
            "108/108 [==============================] - 9s 83ms/step - loss: 0.8559 - accuracy: 0.7163 - val_loss: nan - val_accuracy: 0.7189\n",
            "Epoch 8/10\n",
            "108/108 [==============================] - 9s 82ms/step - loss: 0.8215 - accuracy: 0.7225 - val_loss: nan - val_accuracy: 0.7239\n",
            "Epoch 9/10\n",
            "108/108 [==============================] - 9s 83ms/step - loss: 0.7891 - accuracy: 0.7290 - val_loss: nan - val_accuracy: 0.7323\n",
            "Epoch 10/10\n",
            "108/108 [==============================] - 8s 78ms/step - loss: 0.7667 - accuracy: 0.7333 - val_loss: nan - val_accuracy: 0.7352\n",
            "1/1 [==============================] - 1s 595ms/step\n",
            "new jersey est parfois calme en mars de il est est est en <PAD> <PAD> <PAD> <PAD> <PAD> <PAD> <PAD> <PAD>\n"
          ]
        }
      ]
    },
    {
      "cell_type": "markdown",
      "source": [
        "## Model 4: Encoder-Decoder (OPTIONAL)"
      ],
      "metadata": {
        "id": "jKdyv0RKIau1"
      }
    },
    {
      "cell_type": "markdown",
      "source": [
        "Time to look at encoder-decoder models. This model is made up of an encoder and decoder. The encoder creates a matrix representation of the sentence. The decoder takes this matrix as input and predicts the translation as output.\n",
        "\n",
        "Create an encoder-decoder model in the cell below."
      ],
      "metadata": {
        "id": "iDfBbIHzIgTk"
      }
    },
    {
      "cell_type": "code",
      "source": [
        "def encdec_model(input_shape, output_sequence_length, english_vocab_size, french_vocab_size):\n",
        "    \"\"\"\n",
        "    Build and train an encoder-decoder model on x and y\n",
        "    :param input_shape: Tuple of input shape\n",
        "    :param output_sequence_length: Length of output sequence\n",
        "    :param english_vocab_size: Number of unique English words in the dataset\n",
        "    :param french_vocab_size: Number of unique French words in the dataset\n",
        "    :return: Keras model built, but not trained\n",
        "    \"\"\"\n",
        "    # OPTIONAL: Implement\n",
        "    \n",
        "    from keras.layers import LSTM\n",
        "    \n",
        "    learning_rate = 1e-3\n",
        "    \n",
        "    #Encoder\n",
        "    encoder_input_seq = Input(shape=input_shape[1:])\n",
        "    encoder_output, state_h, state_c = LSTM(units=400, \n",
        "                                  return_sequences=False,\n",
        "                                  return_state=True)(encoder_input_seq)\n",
        "\n",
        "        \n",
        "    #Decoder  \n",
        "    decoder_input_seq = RepeatVector(output_sequence_length)(encoder_output)\n",
        "    decoder_out = LSTM(units=400,\n",
        "                      return_sequences=True,\n",
        "                      return_state=False)(decoder_input_seq, initial_state=[state_h, state_c])\n",
        "    logits = TimeDistributed(Dense(units=french_vocab_size))(decoder_out) \n",
        "    \n",
        "    #Model\n",
        "    model = Model(encoder_input_seq, Activation('softmax')(logits))\n",
        "    model.compile(loss=sparse_categorical_crossentropy,\n",
        "                  optimizer=Adam(lr=learning_rate),\n",
        "                  metrics=['accuracy'])\n",
        "     \n",
        "    return model \n",
        "\n",
        "tests.test_encdec_model(encdec_model)\n",
        "\n",
        "\n",
        "# OPTIONAL: Train and Print prediction(s)\n",
        "tmp_x = pad(preproc_english_sentences, max_french_sequence_length)\n",
        "tmp_x = tmp_x.reshape((-1, preproc_french_sentences.shape[-2], 1))\n",
        "\n",
        "encdec_rnn_model = encdec_model(\n",
        "    tmp_x.shape,\n",
        "    max_french_sequence_length,\n",
        "    english_vocab_size,\n",
        "    french_vocab_size)\n",
        "print(encdec_rnn_model.summary())\n",
        "encdec_rnn_model.fit(tmp_x, preproc_french_sentences, batch_size=1024, epochs=10, validation_split=0.2)\n",
        "\n",
        "print(logits_to_text(encdec_rnn_model.predict(tmp_x[:1])[0], french_tokenizer))\n"
      ],
      "metadata": {
        "id": "enu3M-GxIcaT",
        "outputId": "838e8714-7f31-4b75-9c84-5fe0c9bf33b5",
        "colab": {
          "base_uri": "https://localhost:8080/"
        }
      },
      "execution_count": 17,
      "outputs": [
        {
          "output_type": "stream",
          "name": "stderr",
          "text": [
            "/usr/local/lib/python3.9/dist-packages/keras/optimizers/legacy/adam.py:117: UserWarning: The `lr` argument is deprecated, use `learning_rate` instead.\n",
            "  super().__init__(name, **kwargs)\n"
          ]
        },
        {
          "output_type": "stream",
          "name": "stdout",
          "text": [
            "Model: \"model_7\"\n",
            "__________________________________________________________________________________________________\n",
            " Layer (type)                   Output Shape         Param #     Connected to                     \n",
            "==================================================================================================\n",
            " input_8 (InputLayer)           [(None, 21, 1)]      0           []                               \n",
            "                                                                                                  \n",
            " lstm_2 (LSTM)                  [(None, 400),        643200      ['input_8[0][0]']                \n",
            "                                 (None, 400),                                                     \n",
            "                                 (None, 400)]                                                     \n",
            "                                                                                                  \n",
            " repeat_vector_1 (RepeatVector)  (None, 21, 400)     0           ['lstm_2[0][0]']                 \n",
            "                                                                                                  \n",
            " lstm_3 (LSTM)                  (None, 21, 400)      1281600     ['repeat_vector_1[0][0]',        \n",
            "                                                                  'lstm_2[0][1]',                 \n",
            "                                                                  'lstm_2[0][2]']                 \n",
            "                                                                                                  \n",
            " time_distributed_7 (TimeDistri  (None, 21, 344)     137944      ['lstm_3[0][0]']                 \n",
            " buted)                                                                                           \n",
            "                                                                                                  \n",
            " activation_7 (Activation)      (None, 21, 344)      0           ['time_distributed_7[0][0]']     \n",
            "                                                                                                  \n",
            "==================================================================================================\n",
            "Total params: 2,062,744\n",
            "Trainable params: 2,062,744\n",
            "Non-trainable params: 0\n",
            "__________________________________________________________________________________________________\n",
            "None\n",
            "Epoch 1/10\n",
            "108/108 [==============================] - 16s 126ms/step - loss: 2.2986 - accuracy: 0.5109 - val_loss: nan - val_accuracy: 0.5569\n",
            "Epoch 2/10\n",
            "108/108 [==============================] - 13s 123ms/step - loss: 1.7291 - accuracy: 0.5649 - val_loss: nan - val_accuracy: 0.5515\n",
            "Epoch 3/10\n",
            "108/108 [==============================] - 14s 126ms/step - loss: 1.5148 - accuracy: 0.5945 - val_loss: nan - val_accuracy: 0.6139\n",
            "Epoch 4/10\n",
            "108/108 [==============================] - 13s 120ms/step - loss: 1.3702 - accuracy: 0.6168 - val_loss: nan - val_accuracy: 0.6279\n",
            "Epoch 5/10\n",
            "108/108 [==============================] - 13s 119ms/step - loss: 1.2769 - accuracy: 0.6315 - val_loss: nan - val_accuracy: 0.6363\n",
            "Epoch 6/10\n",
            "108/108 [==============================] - 13s 119ms/step - loss: 1.2565 - accuracy: 0.6322 - val_loss: nan - val_accuracy: 0.6380\n",
            "Epoch 7/10\n",
            "108/108 [==============================] - 13s 123ms/step - loss: 1.1848 - accuracy: 0.6465 - val_loss: nan - val_accuracy: 0.6543\n",
            "Epoch 8/10\n",
            "108/108 [==============================] - 13s 120ms/step - loss: 1.1333 - accuracy: 0.6569 - val_loss: nan - val_accuracy: 0.6579\n",
            "Epoch 9/10\n",
            "108/108 [==============================] - 13s 121ms/step - loss: 1.0867 - accuracy: 0.6674 - val_loss: nan - val_accuracy: 0.6547\n",
            "Epoch 10/10\n",
            "108/108 [==============================] - 13s 124ms/step - loss: 1.0679 - accuracy: 0.6699 - val_loss: nan - val_accuracy: 0.6697\n",
            "1/1 [==============================] - 1s 594ms/step\n",
            "new jersey est parfois chaud en l' et il est est en en <PAD> <PAD> <PAD> <PAD> <PAD> <PAD> <PAD> <PAD>\n"
          ]
        }
      ]
    },
    {
      "cell_type": "markdown",
      "source": [
        "## Model 5: Custom (IMPLEMENTATION)\n",
        "\n",
        "\n",
        "Use everything you learned from the previous models to create a model that incorporates embedding and a bidirectional rnn into one model."
      ],
      "metadata": {
        "id": "DDEft_bQItup"
      }
    },
    {
      "cell_type": "code",
      "source": [
        "def model_final(input_shape, output_sequence_length, english_vocab_size, french_vocab_size):\n",
        "    \"\"\"\n",
        "    Build and train a model that incorporates embedding, encoder-decoder, and bidirectional RNN on x and y\n",
        "    :param input_shape: Tuple of input shape\n",
        "    :param output_sequence_length: Length of output sequence\n",
        "    :param english_vocab_size: Number of unique English words in the dataset\n",
        "    :param french_vocab_size: Number of unique French words in the dataset\n",
        "    :return: Keras model built, but not trained\n",
        "    \"\"\"\n",
        "    # TODO: Implement\n",
        "    from keras.layers import LSTM, concatenate\n",
        "    \n",
        "    learning_rate = 1e-3\n",
        "    \n",
        "    #Encoder\n",
        "    encoder_input_seq = Input(shape=input_shape[1:])\n",
        "    encoder_embedding=Embedding(input_dim=english_vocab_size, output_dim=256,input_length=input_shape[1:][0])(encoder_input_seq)\n",
        "    forward_encoder_output, forward_state_h, forward_state_c = LSTM(units=256, \n",
        "                                  return_sequences=False,\n",
        "                                  return_state=True, go_backwards=False)(encoder_embedding)\n",
        "    backward_encoder_output, backward_state_h, backward_state_c = LSTM(units=256, \n",
        "                                  return_sequences=False,\n",
        "                                  return_state=True, go_backwards=True)(encoder_embedding)\n",
        "        \n",
        "    #Decoder  \n",
        "    state_h=concatenate([forward_state_h,backward_state_h])\n",
        "    state_c=concatenate([forward_state_c,backward_state_c])\n",
        "    encoder_output=concatenate([forward_encoder_output,backward_encoder_output])\n",
        "    decoder_input_seq = RepeatVector(output_sequence_length)(encoder_output)\n",
        "    decoder_out = LSTM(units=512,\n",
        "                      return_sequences=True,\n",
        "                      return_state=False)(decoder_input_seq, initial_state=[state_h, state_c])\n",
        "    logits = TimeDistributed(Dense(units=french_vocab_size))(decoder_out)\n",
        "       #Model\n",
        "    model = Model(encoder_input_seq, Activation('softmax')(logits))\n",
        "    model.compile(loss=sparse_categorical_crossentropy,\n",
        "                  optimizer=Adam(lr=learning_rate),\n",
        "                  metrics=['accuracy'])\n",
        "     \n",
        "    return model    \n",
        "tests.test_model_final(model_final)\n",
        "\n",
        "\n",
        "print('Final Model Loaded')\n",
        "tmp_x = pad(preproc_english_sentences, max_french_sequence_length)\n",
        "#tmp_x = tmp_x.reshape((-1, preproc_french_sentences.shape[-2], 1))\n",
        "\n",
        "final_model = model_final(\n",
        "    tmp_x.shape,\n",
        "    max_french_sequence_length,\n",
        "    english_vocab_size,\n",
        "    french_vocab_size)\n",
        "print(final_model.summary())\n",
        "final_model.fit(tmp_x, preproc_french_sentences, batch_size=1024, epochs=10, validation_split=0.2)\n",
        "\n",
        "print(logits_to_text(final_model.predict(tmp_x[:1])[0], french_tokenizer))"
      ],
      "metadata": {
        "id": "Y2Pcf4baIvj2",
        "outputId": "e07cb5d1-17ff-4cc5-8eb6-ea8c49aa333c",
        "colab": {
          "base_uri": "https://localhost:8080/"
        }
      },
      "execution_count": 18,
      "outputs": [
        {
          "output_type": "stream",
          "name": "stdout",
          "text": [
            "Final Model Loaded\n",
            "Model: \"model_9\"\n",
            "__________________________________________________________________________________________________\n",
            " Layer (type)                   Output Shape         Param #     Connected to                     \n",
            "==================================================================================================\n",
            " input_10 (InputLayer)          [(None, 21)]         0           []                               \n",
            "                                                                                                  \n",
            " embedding_3 (Embedding)        (None, 21, 256)      50944       ['input_10[0][0]']               \n",
            "                                                                                                  \n",
            " lstm_7 (LSTM)                  [(None, 256),        525312      ['embedding_3[0][0]']            \n",
            "                                 (None, 256),                                                     \n",
            "                                 (None, 256)]                                                     \n",
            "                                                                                                  \n",
            " lstm_8 (LSTM)                  [(None, 256),        525312      ['embedding_3[0][0]']            \n",
            "                                 (None, 256),                                                     \n",
            "                                 (None, 256)]                                                     \n",
            "                                                                                                  \n",
            " concatenate_5 (Concatenate)    (None, 512)          0           ['lstm_7[0][0]',                 \n",
            "                                                                  'lstm_8[0][0]']                 \n",
            "                                                                                                  \n",
            " repeat_vector_3 (RepeatVector)  (None, 21, 512)     0           ['concatenate_5[0][0]']          \n",
            "                                                                                                  \n",
            " concatenate_3 (Concatenate)    (None, 512)          0           ['lstm_7[0][1]',                 \n",
            "                                                                  'lstm_8[0][1]']                 \n",
            "                                                                                                  \n",
            " concatenate_4 (Concatenate)    (None, 512)          0           ['lstm_7[0][2]',                 \n",
            "                                                                  'lstm_8[0][2]']                 \n",
            "                                                                                                  \n",
            " lstm_9 (LSTM)                  (None, 21, 512)      2099200     ['repeat_vector_3[0][0]',        \n",
            "                                                                  'concatenate_3[0][0]',          \n",
            "                                                                  'concatenate_4[0][0]']          \n",
            "                                                                                                  \n",
            " time_distributed_9 (TimeDistri  (None, 21, 344)     176472      ['lstm_9[0][0]']                 \n",
            " buted)                                                                                           \n",
            "                                                                                                  \n",
            " activation_9 (Activation)      (None, 21, 344)      0           ['time_distributed_9[0][0]']     \n",
            "                                                                                                  \n",
            "==================================================================================================\n",
            "Total params: 3,377,240\n",
            "Trainable params: 3,377,240\n",
            "Non-trainable params: 0\n",
            "__________________________________________________________________________________________________\n",
            "None\n",
            "Epoch 1/10\n",
            "108/108 [==============================] - 23s 182ms/step - loss: 2.5941 - accuracy: 0.4741 - val_loss: nan - val_accuracy: 0.5595\n",
            "Epoch 2/10\n",
            "108/108 [==============================] - 18s 171ms/step - loss: 1.5135 - accuracy: 0.6035 - val_loss: nan - val_accuracy: 0.6388\n",
            "Epoch 3/10\n",
            "108/108 [==============================] - 18s 165ms/step - loss: 1.2106 - accuracy: 0.6724 - val_loss: nan - val_accuracy: 0.7081\n",
            "Epoch 4/10\n",
            "108/108 [==============================] - 17s 158ms/step - loss: 0.9765 - accuracy: 0.7249 - val_loss: nan - val_accuracy: 0.7463\n",
            "Epoch 5/10\n",
            "108/108 [==============================] - 18s 168ms/step - loss: 0.8151 - accuracy: 0.7612 - val_loss: nan - val_accuracy: 0.7850\n",
            "Epoch 6/10\n",
            "108/108 [==============================] - 17s 160ms/step - loss: 0.6912 - accuracy: 0.7935 - val_loss: nan - val_accuracy: 0.8180\n",
            "Epoch 7/10\n",
            "108/108 [==============================] - 17s 161ms/step - loss: 0.5460 - accuracy: 0.8351 - val_loss: nan - val_accuracy: 0.8502\n",
            "Epoch 8/10\n",
            "108/108 [==============================] - 19s 172ms/step - loss: 0.4466 - accuracy: 0.8651 - val_loss: nan - val_accuracy: 0.8810\n",
            "Epoch 9/10\n",
            "108/108 [==============================] - 18s 171ms/step - loss: 0.3452 - accuracy: 0.8995 - val_loss: nan - val_accuracy: 0.9147\n",
            "Epoch 10/10\n",
            "108/108 [==============================] - 18s 171ms/step - loss: 0.2771 - accuracy: 0.9206 - val_loss: nan - val_accuracy: 0.9290\n"
          ]
        },
        {
          "output_type": "stream",
          "name": "stderr",
          "text": [
            "WARNING:tensorflow:5 out of the last 5 calls to <function Model.make_predict_function.<locals>.predict_function at 0x7ff6b8c79790> triggered tf.function retracing. Tracing is expensive and the excessive number of tracings could be due to (1) creating @tf.function repeatedly in a loop, (2) passing tensors with different shapes, (3) passing Python objects instead of tensors. For (1), please define your @tf.function outside of the loop. For (2), @tf.function has reduce_retracing=True option that can avoid unnecessary retracing. For (3), please refer to https://www.tensorflow.org/guide/function#controlling_retracing and https://www.tensorflow.org/api_docs/python/tf/function for  more details.\n"
          ]
        },
        {
          "output_type": "stream",
          "name": "stdout",
          "text": [
            "1/1 [==============================] - 1s 900ms/step\n",
            "new jersey est parfois calme à l' et il est et en est <PAD> <PAD> <PAD> <PAD> <PAD> <PAD> <PAD> <PAD>\n"
          ]
        }
      ]
    },
    {
      "cell_type": "markdown",
      "source": [
        "## Prediction (IMPLEMENTATION)"
      ],
      "metadata": {
        "id": "YjLK8aTGI_Pc"
      }
    },
    {
      "cell_type": "code",
      "source": [
        "def final_predictions(x, y, x_tk, y_tk):\n",
        "    \"\"\"\n",
        "    Gets predictions using the final model\n",
        "    :param x: Preprocessed English data\n",
        "    :param y: Preprocessed French data\n",
        "    :param x_tk: English tokenizer\n",
        "    :param y_tk: French tokenizer\n",
        "    \"\"\"\n",
        "    # TODO: Train neural network using model_final\n",
        "    model = model_final(\n",
        "        x.shape,\n",
        "        y.shape[1],\n",
        "        len(x_tk.word_index)+1,\n",
        "        len(y_tk.word_index)+1)\n",
        "    print(final_model.summary())\n",
        "    model.fit(x, y, batch_size=512, epochs=20, validation_split=0.2)\n",
        "\n",
        "    \n",
        "    ## DON'T EDIT ANYTHING BELOW THIS LINE\n",
        "    y_id_to_word = {value: key for key, value in y_tk.word_index.items()}\n",
        "    y_id_to_word[0] = '<PAD>'\n",
        "    sentence = 'he saw a old yellow truck'\n",
        "    sentence = [x_tk.word_index[word] for word in sentence.split()]\n",
        "    sentence = pad_sequences([sentence], maxlen=x.shape[-1], padding='post')\n",
        "    sentences = np.array([sentence[0], x[0]])\n",
        "    predictions = model.predict(sentences, len(sentences))\n",
        "\n",
        "    print('Sample 1:')\n",
        "    print(' '.join([y_id_to_word[np.argmax(x)] for x in predictions[0]]))\n",
        "    print('Il a vu un vieux camion jaune')\n",
        "    print('Sample 2:')\n",
        "    print(' '.join([y_id_to_word[np.argmax(x)] for x in predictions[1]]))\n",
        "    print(' '.join([y_id_to_word[np.max(x)] for x in y[0]]))\n",
        "\n",
        "\n",
        "final_predictions(preproc_english_sentences, preproc_french_sentences, english_tokenizer, french_tokenizer)"
      ],
      "metadata": {
        "id": "ZH26lbLFJAaQ",
        "outputId": "187bd3e5-a623-422f-bdcf-d3bc577b8f3c",
        "colab": {
          "base_uri": "https://localhost:8080/"
        }
      },
      "execution_count": 19,
      "outputs": [
        {
          "output_type": "stream",
          "name": "stdout",
          "text": [
            "Model: \"model_9\"\n",
            "__________________________________________________________________________________________________\n",
            " Layer (type)                   Output Shape         Param #     Connected to                     \n",
            "==================================================================================================\n",
            " input_10 (InputLayer)          [(None, 21)]         0           []                               \n",
            "                                                                                                  \n",
            " embedding_3 (Embedding)        (None, 21, 256)      50944       ['input_10[0][0]']               \n",
            "                                                                                                  \n",
            " lstm_7 (LSTM)                  [(None, 256),        525312      ['embedding_3[0][0]']            \n",
            "                                 (None, 256),                                                     \n",
            "                                 (None, 256)]                                                     \n",
            "                                                                                                  \n",
            " lstm_8 (LSTM)                  [(None, 256),        525312      ['embedding_3[0][0]']            \n",
            "                                 (None, 256),                                                     \n",
            "                                 (None, 256)]                                                     \n",
            "                                                                                                  \n",
            " concatenate_5 (Concatenate)    (None, 512)          0           ['lstm_7[0][0]',                 \n",
            "                                                                  'lstm_8[0][0]']                 \n",
            "                                                                                                  \n",
            " repeat_vector_3 (RepeatVector)  (None, 21, 512)     0           ['concatenate_5[0][0]']          \n",
            "                                                                                                  \n",
            " concatenate_3 (Concatenate)    (None, 512)          0           ['lstm_7[0][1]',                 \n",
            "                                                                  'lstm_8[0][1]']                 \n",
            "                                                                                                  \n",
            " concatenate_4 (Concatenate)    (None, 512)          0           ['lstm_7[0][2]',                 \n",
            "                                                                  'lstm_8[0][2]']                 \n",
            "                                                                                                  \n",
            " lstm_9 (LSTM)                  (None, 21, 512)      2099200     ['repeat_vector_3[0][0]',        \n",
            "                                                                  'concatenate_3[0][0]',          \n",
            "                                                                  'concatenate_4[0][0]']          \n",
            "                                                                                                  \n",
            " time_distributed_9 (TimeDistri  (None, 21, 344)     176472      ['lstm_9[0][0]']                 \n",
            " buted)                                                                                           \n",
            "                                                                                                  \n",
            " activation_9 (Activation)      (None, 21, 344)      0           ['time_distributed_9[0][0]']     \n",
            "                                                                                                  \n",
            "==================================================================================================\n",
            "Total params: 3,377,240\n",
            "Trainable params: 3,377,240\n",
            "Non-trainable params: 0\n",
            "__________________________________________________________________________________________________\n",
            "None\n",
            "Epoch 1/20\n",
            "216/216 [==============================] - 22s 84ms/step - loss: 2.0161 - accuracy: 0.5470 - val_loss: 1.2753 - val_accuracy: 0.6557\n",
            "Epoch 2/20\n",
            "216/216 [==============================] - 16s 76ms/step - loss: 1.0492 - accuracy: 0.7065 - val_loss: 0.8993 - val_accuracy: 0.7368\n",
            "Epoch 3/20\n",
            "216/216 [==============================] - 18s 81ms/step - loss: 0.7759 - accuracy: 0.7697 - val_loss: 0.6687 - val_accuracy: 0.7971\n",
            "Epoch 4/20\n",
            "216/216 [==============================] - 17s 80ms/step - loss: 0.5706 - accuracy: 0.8257 - val_loss: 0.4854 - val_accuracy: 0.8513\n",
            "Epoch 5/20\n",
            "216/216 [==============================] - 16s 74ms/step - loss: 0.4043 - accuracy: 0.8776 - val_loss: 0.3378 - val_accuracy: 0.9008\n",
            "Epoch 6/20\n",
            "216/216 [==============================] - 17s 80ms/step - loss: 0.2826 - accuracy: 0.9173 - val_loss: 0.2321 - val_accuracy: 0.9339\n",
            "Epoch 7/20\n",
            "216/216 [==============================] - 16s 74ms/step - loss: 0.2069 - accuracy: 0.9398 - val_loss: 0.2154 - val_accuracy: 0.9349\n",
            "Epoch 8/20\n",
            "216/216 [==============================] - 17s 81ms/step - loss: 0.1670 - accuracy: 0.9504 - val_loss: 0.1565 - val_accuracy: 0.9531\n",
            "Epoch 9/20\n",
            "216/216 [==============================] - 17s 80ms/step - loss: 0.1329 - accuracy: 0.9601 - val_loss: 0.1532 - val_accuracy: 0.9520\n",
            "Epoch 10/20\n",
            "216/216 [==============================] - 16s 74ms/step - loss: 0.1230 - accuracy: 0.9626 - val_loss: 0.1191 - val_accuracy: 0.9643\n",
            "Epoch 11/20\n",
            "216/216 [==============================] - 16s 74ms/step - loss: 0.0991 - accuracy: 0.9699 - val_loss: 0.1165 - val_accuracy: 0.9645\n",
            "Epoch 12/20\n",
            "216/216 [==============================] - 16s 74ms/step - loss: 0.0929 - accuracy: 0.9718 - val_loss: 0.0940 - val_accuracy: 0.9721\n",
            "Epoch 13/20\n",
            "216/216 [==============================] - 16s 74ms/step - loss: 0.0744 - accuracy: 0.9773 - val_loss: 0.0899 - val_accuracy: 0.9724\n",
            "Epoch 14/20\n",
            "216/216 [==============================] - 17s 80ms/step - loss: 0.0747 - accuracy: 0.9771 - val_loss: 0.0859 - val_accuracy: 0.9738\n",
            "Epoch 15/20\n",
            "216/216 [==============================] - 16s 74ms/step - loss: 0.0666 - accuracy: 0.9792 - val_loss: 0.0975 - val_accuracy: 0.9709\n",
            "Epoch 16/20\n",
            "216/216 [==============================] - 17s 80ms/step - loss: 0.0602 - accuracy: 0.9814 - val_loss: 0.0762 - val_accuracy: 0.9768\n",
            "Epoch 17/20\n",
            "216/216 [==============================] - 16s 75ms/step - loss: 0.0517 - accuracy: 0.9841 - val_loss: 0.0720 - val_accuracy: 0.9781\n",
            "Epoch 18/20\n",
            "216/216 [==============================] - 17s 80ms/step - loss: 0.0793 - accuracy: 0.9769 - val_loss: 0.0746 - val_accuracy: 0.9774\n",
            "Epoch 19/20\n",
            "216/216 [==============================] - 16s 74ms/step - loss: 0.0450 - accuracy: 0.9863 - val_loss: 0.0641 - val_accuracy: 0.9808\n",
            "Epoch 20/20\n",
            "216/216 [==============================] - 16s 74ms/step - loss: 0.0392 - accuracy: 0.9881 - val_loss: 0.0736 - val_accuracy: 0.9784\n"
          ]
        },
        {
          "output_type": "stream",
          "name": "stderr",
          "text": [
            "WARNING:tensorflow:6 out of the last 6 calls to <function Model.make_predict_function.<locals>.predict_function at 0x7ff6b789bf70> triggered tf.function retracing. Tracing is expensive and the excessive number of tracings could be due to (1) creating @tf.function repeatedly in a loop, (2) passing tensors with different shapes, (3) passing Python objects instead of tensors. For (1), please define your @tf.function outside of the loop. For (2), @tf.function has reduce_retracing=True option that can avoid unnecessary retracing. For (3), please refer to https://www.tensorflow.org/guide/function#controlling_retracing and https://www.tensorflow.org/api_docs/python/tf/function for  more details.\n"
          ]
        },
        {
          "output_type": "stream",
          "name": "stdout",
          "text": [
            "1/1 [==============================] - 1s 895ms/step\n",
            "Sample 1:\n",
            "il a vu un vieux camion jaune <PAD> <PAD> <PAD> <PAD> <PAD> <PAD> <PAD> <PAD> <PAD> <PAD> <PAD> <PAD> <PAD> <PAD>\n",
            "Il a vu un vieux camion jaune\n",
            "Sample 2:\n",
            "new jersey est parfois calme pendant l' automne et il est neigeux en avril <PAD> <PAD> <PAD> <PAD> <PAD> <PAD> <PAD>\n",
            "new jersey est parfois calme pendant l' automne et il est neigeux en avril <PAD> <PAD> <PAD> <PAD> <PAD> <PAD> <PAD>\n"
          ]
        }
      ]
    }
  ]
}